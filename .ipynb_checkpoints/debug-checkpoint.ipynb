{
 "cells": [
  {
   "cell_type": "code",
   "execution_count": 1,
   "metadata": {},
   "outputs": [
    {
     "name": "stdout",
     "output_type": "stream",
     "text": [
      "Him\n",
      "He - He\n",
      "It\n",
      "It - It\n",
      "She\n",
      "She\n",
      "She - She\n",
      "They\n",
      "They - They\n",
      "Her\n"
     ]
    }
   ],
   "source": [
    "arr1 = [\"He\", \"She\", \"It\", \"They\"]\n",
    "arr2 = [\"Him\", \"He\", \"It\", \"She\", \"They\", \"Her\"]\n",
    "\n",
    "def find_matches(arr1, arr2):\n",
    "  if len(arr1) > len(arr2):\n",
    "    for x in range(len(arr1)):\n",
    "      mismatch_count = 0\n",
    "      for y in range(len(arr2)):\n",
    "        found_match = False\n",
    "        if arr1[x] == arr2[y]:\n",
    "          found_match = True\n",
    "        else: \n",
    "          mismatch_count += 1\n",
    "        if mismatch_count == 1:\n",
    "          print(arr1[x])\n",
    "        if found_match == True:\n",
    "          print(\"{} - {}\".format(arr1[x], arr2[y]))\n",
    "          break\n",
    "  else: print(\"The first array should be longer.\")\n",
    "\n",
    "find_matches(arr2, arr1)"
   ]
  }
 ],
 "metadata": {
  "interpreter": {
   "hash": "5bbd4e8a0020626d1955d6e7d647b883363040a056d10513dec12a340be08610"
  },
  "kernelspec": {
   "display_name": "Python 3.9 (XPython)",
   "language": "python",
   "name": "xpython"
  },
  "language_info": {
   "file_extension": ".py",
   "mimetype": "text/x-python",
   "name": "python",
   "version": "3.9.7"
  }
 },
 "nbformat": 4,
 "nbformat_minor": 4
}
